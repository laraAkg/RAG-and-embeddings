{
 "cells": [
  {
   "cell_type": "markdown",
   "metadata": {},
   "source": [
    "# Building a FAISS-Based Vector Store: A Journey Through Data Processing and Visualization\n",
    "\n",
    "In this notebook, you'll learn how to transform raw PDF documents into a searchable vector store using FAISS. We'll go on a journey where we:\n",
    "\n",
    "1. **Read and extract text from PDF files.**\n",
    "2. **Split the text into manageable chunks.**\n",
    "3. **Display tokenization outputs from different tokenizers.**\n",
    "4. **Generate embeddings from the text using a SentenceTransformer.**\n",
    "5. **Store the embeddings in a FAISS index.**\n",
    "6. **Project the embeddings into 2D space using UMAP for visualization.**\n",
    "7. **Visualize the entire process on a scatter plot.**\n",
    "8. **Incect your data into a prompt for a large language model**"
   ]
  },
  {
   "cell_type": "code",
   "execution_count": 3,
   "metadata": {},
   "outputs": [
    {
     "name": "stderr",
     "output_type": "stream",
     "text": [
      "/usr/local/python/3.12.1/lib/python3.12/site-packages/tqdm/auto.py:21: TqdmWarning: IProgress not found. Please update jupyter and ipywidgets. See https://ipywidgets.readthedocs.io/en/stable/user_install.html\n",
      "  from .autonotebook import tqdm as notebook_tqdm\n"
     ]
    }
   ],
   "source": [
    "import tqdm\n",
    "import glob\n",
    "from PyPDF2 import PdfReader\n",
    "from langchain.text_splitter import RecursiveCharacterTextSplitter\n",
    "from sentence_transformers import SentenceTransformer\n",
    "from langchain.text_splitter import SentenceTransformersTokenTextSplitter\n",
    "from langchain_community.embeddings import HuggingFaceEmbeddings  # For generating embeddings for text chunks\n",
    "import faiss\n",
    "import pickle\n",
    "import matplotlib.pyplot as plt\n",
    "import umap.umap_ as umap\n",
    "import numpy as np\n",
    "from dotenv import load_dotenv  # For loading environment variables from a .env file\n",
    "\n"
   ]
  },
  {
   "cell_type": "markdown",
   "metadata": {},
   "source": [
    "## 1. Reading Data from PDFs\n",
    "\n",
    "First, we load PDF files from a directory, extract their text content, and combine it into one large text string."
   ]
  },
  {
   "cell_type": "code",
   "execution_count": 4,
   "metadata": {},
   "outputs": [
    {
     "name": "stdout",
     "output_type": "stream",
     "text": [
      "Anzahl geladener PDFs: 1\n",
      "Gesamtlänge des extrahierten Texts: 48630 Zeichen\n",
      "High and normal protein diets improve body composition and \n",
      "glucose control in adults with type 2 diabetes: A randomized \n",
      "trial\n",
      "Julianne G. Clina1, R. Drew Sayer1,3, Zhaoxing Pan2, Caroline W. Cohen3, Michael T. \n",
      "McDermott4, Victoria A. Catenacci4, Holly R. Wyatt1,5, James O. Hill1\n",
      "1Department of Nutrition Sciences, University of Alabama at Birmingham\n",
      "2Department of Pediatrics, University of Colorado Anschutz Medical Campus\n",
      "3Department of Family and Community Medicine, University of Alabama at Birmingham\n",
      "4Division of Endocrinology, Metabolism and Diabetes, University of Colorado School of Medicine, \n",
      "Aurora, Colorado\n",
      "5Anschutz Health and Wellness Center, University of Colorado Anschutz Medical Campus\n",
      "Abstract\n",
      "Objective:  Weight loss of ≥10% improves glucose control and may remit type 2 diabetes \n",
      "(T2D). High protein (HP) diets are commonly used for weight loss, but whether protein \n",
      "sources, especially red meat, impact weight loss-induced T2D management is unknown. This \n",
      "trial compared a \n"
     ]
    }
   ],
   "source": [
    "# Alle PDFs aus dem Verzeichnis \"data\" laden\n",
    "pdf_files = glob.glob(\"data/*.pdf\")  # z. B. \"data/nihms-*.pdf\"\n",
    "\n",
    "# Inhalte aller PDFs extrahieren und in einem String sammeln\n",
    "all_text = \"\"\n",
    "\n",
    "for pdf_path in pdf_files:\n",
    "    reader = PdfReader(pdf_path)\n",
    "    for page in reader.pages:\n",
    "        text = page.extract_text()\n",
    "        if text:\n",
    "            all_text += text + \"\\n\"\n",
    "\n",
    "# Ergebnis prüfen\n",
    "print(f\"Anzahl geladener PDFs: {len(pdf_files)}\")\n",
    "print(f\"Gesamtlänge des extrahierten Texts: {len(all_text)} Zeichen\")\n",
    "print(all_text[:1000])  # Vorschau: erste 1000 Zeichen"
   ]
  },
  {
   "cell_type": "markdown",
   "metadata": {},
   "source": [
    "\"\"\"\n",
    "## 2. Splitting the Text into Chunks\n",
    "\n",
    "Large texts can be difficult to work with. We use a text splitter to break the full text into smaller, overlapping chunks. This helps preserve context when we later embed the text.\n",
    "\"\"\""
   ]
  },
  {
   "cell_type": "code",
   "execution_count": 5,
   "metadata": {},
   "outputs": [
    {
     "name": "stdout",
     "output_type": "stream",
     "text": [
      "Anzahl Chunks: 28\n",
      "Beispiel-Chunk:\n",
      "High and normal protein diets improve body composition and \n",
      "glucose control in adults with type 2 diabetes: A randomized \n",
      "trial\n",
      "Julianne G. Clina1, R. Drew Sayer1,3, Zhaoxing Pan2, Caroline W. Cohen3, Michael T. \n",
      "McDermott4, Victoria A. Catenacci4, Holly R. Wyatt1,5, James O. Hill1\n",
      "1Department of Nu...\n"
     ]
    }
   ],
   "source": [
    "# Konfiguration: 2000 Zeichen pro Chunk, 200 Zeichen Überlappung\n",
    "splitter = RecursiveCharacterTextSplitter(\n",
    "    chunk_size=2000,\n",
    "    chunk_overlap=200\n",
    ")\n",
    "\n",
    "# Text zerschneiden\n",
    "chunks = splitter.split_text(all_text)\n",
    "\n",
    "# Ergebnis prüfen\n",
    "print(f\"Anzahl Chunks: {len(chunks)}\")\n",
    "print(f\"Beispiel-Chunk:\\n{chunks[0][:300]}...\")  # zeige die ersten 300 Zeichen\n"
   ]
  },
  {
   "cell_type": "code",
   "execution_count": 6,
   "metadata": {},
   "outputs": [
    {
     "name": "stdout",
     "output_type": "stream",
     "text": [
      "Total chunks: 28\n",
      "Preview of the first chunk: High and normal protein diets improve body composition and \n",
      "glucose control in adults with type 2 diabetes: A randomized \n",
      "trial\n",
      "Julianne G. Clina1, R. Drew Sayer1,3, Zhaoxing Pan2, Caroline W. Cohen3,\n"
     ]
    }
   ],
   "source": [
    "print(f\"Total chunks: {len(chunks)}\")\n",
    "print(\"Preview of the first chunk:\", chunks[0][:200])"
   ]
  },
  {
   "cell_type": "markdown",
   "metadata": {},
   "source": [
    "## 3. Tokenizing the Text with Different Tokenizers\n",
    "\n",
    "Before embedding, it's insightful to see how different tokenizers break up our text. Here, we use the tokenizer from the SentenceTransformer model."
   ]
  },
  {
   "cell_type": "code",
   "execution_count": 7,
   "metadata": {},
   "outputs": [],
   "source": [
    "# Teilt Text in 128-Token große, nicht überlappende Chunks auf, optimiert für das Modell „paraphrase-multilingual-MiniLM-L12-v2“.\n",
    "token_splitter = SentenceTransformersTokenTextSplitter(chunk_overlap=0, tokens_per_chunk=128, model_name=\"paraphrase-multilingual-MiniLM-L12-v2\")"
   ]
  },
  {
   "cell_type": "code",
   "execution_count": 8,
   "metadata": {},
   "outputs": [
    {
     "name": "stdout",
     "output_type": "stream",
     "text": [
      "\n",
      "Total chunks: 120\n",
      "High and normal protein diets improve body composition and glucose control in adults with type 2 diabetes: A randomized trial Julianne G. Clina1, R. Drew Sayer1,3, Zhaoxing Pan2, Caroline W. Cohen3, Michael T. McDermott4, Victoria A. Catenacci4, Holly R. Wyatt1,5, James O. Hill1 1Department of Nutrition Sciences, University of Alabama at Birmingham 2Department of Pediatrics, University of Colorado Anschutz Medical Campus 3Department of Family and Community Medicine, University of Alabama at Birmingham\n"
     ]
    }
   ],
   "source": [
    "# Zerlegt alle Textstücke nochmals in 128-Token-Chunks und sammelt sie in einer Liste.\n",
    "token_split_texts = []\n",
    "for text in chunks:\n",
    "    token_split_texts += token_splitter.split_text(text)\n",
    "\n",
    "print(f\"\\nTotal chunks: {len(token_split_texts)}\")\n",
    "print(token_split_texts[0])"
   ]
  },
  {
   "cell_type": "code",
   "execution_count": 9,
   "metadata": {},
   "outputs": [
    {
     "name": "stdout",
     "output_type": "stream",
     "text": [
      "Chunk 0: ['<s>', '▁High', '▁and', '▁normal', '▁protein', '▁die', 'ts', '▁improve', '▁body', '▁composition', '▁and', '▁gluco', 'se', '▁control', '▁in', '▁adults', '▁with', '▁type', '▁2', '▁diabetes', ':', '▁A', '▁random', 'ized', '▁trial', '▁Julian', 'ne', '▁G', '.', '▁C', 'lina', '1', ',', '▁R', '.', '▁Drew', '▁Say', 'er', '1', ',', '3', ',', '▁Z', 'ha', 'ox', 'ing', '▁Pan', '2', ',', '▁Caroline', '▁W', '.', '▁Cohen', '3', ',', '▁Michael', '▁T', '.', '▁Mc', 'Der', 'm', 'ott', '4', ',', '▁Victoria', '▁A', '.', '▁Cate', 'na', 'cci', '4', ',', '▁Holl', 'y', '▁R', '.', '▁Wy', 'att', '1,5', ',', '▁James', '▁O', '.', '▁Hill', '1', '▁1', 'De', 'part', 'ment', '▁of', '▁Nutrition', '▁Science', 's', ',', '▁University', '▁of', '▁Alabama', '▁at', '▁Birmingham', '▁2', 'De', 'part', 'ment', '▁of', '▁Pediatri', 'cs', ',', '▁University', '▁of', '▁Colorado', '▁An', 'schutz', '▁Medical', '▁Campus', '▁3', 'De', 'part', 'ment', '▁of', '▁Family', '▁and', '▁Community', '▁Medicine', ',', '▁University', '▁of', '▁Alabama', '</s>']\n",
      "Chunk 1: ['<s>', '▁4', 'Di', 'vision', '▁of', '▁En', 'doc', 'rin', 'ology', ',', '▁Meta', 'bol', 'ism', '▁and', '▁Diabetes', ',', '▁University', '▁of', '▁Colorado', '▁School', '▁of', '▁Medicine', ',', '▁Aurora', ',', '▁Colorado', '▁5', 'An', 'schutz', '▁Health', '▁and', '▁Wellness', '▁Center', ',', '▁University', '▁of', '▁Colorado', '▁An', 'schutz', '▁Medical', '▁Campus', '▁Abstract', '▁Object', 'ive', ':', '▁Weight', '▁loss', '▁of', '▁', '≥', '10%', '▁improve', 's', '▁gluco', 'se', '▁control', '▁and', '▁may', '▁remit', '▁type', '▁2', '▁diabetes', '▁(', 'T', '2', 'D', ').', '▁High', '▁protein', '▁(', 'HP', ')', '▁die', 'ts', '▁are', '▁common', 'ly', '▁used', '▁for', '▁weight', '▁loss', ',', '▁but', '▁whether', '▁protein', '▁sources', ',', '▁especially', '▁red', '▁me', 'at', ',', '▁impact', '▁weight', '▁loss', '-', 'indu', 'ced', '▁T', '2', 'D', '▁management', '▁is', '▁un', 'know', 'n', '.', '▁This', '▁trial', '▁compared', '▁a', '▁HP', '▁die', 't', '▁including', '▁red', '▁me', 'at', '▁and', '▁normal', '▁protein', '▁(', 'NP', ')', '▁without', '▁red', '▁me', '</s>']\n",
      "Chunk 2: ['<s>', '▁weight', '▁loss', ',', '▁body', '▁composition', '▁changes', ',', '▁and', '▁gluco', 'se', '▁control', '▁in', '▁individuals', '▁with', '▁T', '2', 'D', '.', '▁Method', 's', ':', '▁106', '▁adults', '▁(', '80', '▁female', ')', '▁with', '▁T', '2', 'D', '▁consum', 'ed', '▁a', '▁HP', '▁(', '40%', '▁protein', ')', '▁die', 't', '▁with', '▁', '≥', '4', '▁week', 'ly', '▁ser', 'ving', 's', '▁of', '▁lean', '▁be', 'ef', '▁or', '▁a', '▁', 'NP', '▁(2', '1%', '▁protein', ')', '▁die', 't', '▁exclu', 'ding', '▁red', '▁me', 'at', '▁during', '▁a', '▁52', '-', 'week', '▁weight', '▁loss', '▁intervention', '.', '▁Body', '▁weight', ',', '▁body', '▁composition', ',', '▁and', '▁cardio', 'meta', 'bo', 'lic', '▁parameter', 's', '▁were', '▁measure', 'd', '▁before', '▁and', '▁after', '▁intervention', '.', '▁Results', ':', '▁Weight', '▁loss', '▁was', '▁not', '▁different', '▁between', '▁HP', '▁(', '−', '10', '.', '2', '±', '1.6', '▁kg', ')', '▁and', '▁', 'NP', '▁(', '−', '12', '.', '7', '±', '</s>']\n",
      "Chunk 3: ['<s>', '▁8', '▁kg', ',', '▁p', '=', '0.3', '36)', '.', '▁Both', '▁groups', '▁reduce', 'd', '▁fat', '▁mass', '▁and', '▁increased', '▁fat', '▁free', '▁mass', '▁percent', '.', '▁Hem', 'o', 'glob', 'in', '▁A', '1', 'c', ',', '▁gluco', 'se', ',', '▁insulin', ',', '▁insulin', '▁resist', 'ance', ',', '▁blood', '▁pressure', ',', '▁and', '▁tri', 'gly', 'ceri', 'des', '▁improve', 'd', '▁with', '▁no', '▁difference', 's', '▁between', '▁groups', '.', '▁Conclu', 'sions', ':', '▁The', '▁lack', '▁of', '▁observe', 'd', '▁effects', '▁of', '▁dieta', 'ry', '▁protein', '▁and', '▁red', '▁me', 'at', '▁consum', 'p', 'tion', '▁on', '▁weight', '▁loss', '▁and', '▁improve', 'd', '▁cardio', 'meta', 'bo', 'lic', '▁health', '▁suggest', '▁that', '▁achieve', 'd', '▁weight', '▁loss', '▁–', '▁rather', '▁than', '</s>']\n",
      "Chunk 4: ['<s>', '▁Conclu', 'sions', ':', '▁The', '▁lack', '▁of', '▁observe', 'd', '▁effects', '▁of', '▁dieta', 'ry', '▁protein', '▁and', '▁red', '▁me', 'at', '▁consum', 'p', 'tion', '▁on', '▁weight', '▁loss', '▁and', '▁improve', 'd', '▁cardio', 'meta', 'bo', 'lic', '▁health', '▁suggest', '▁that', '▁achieve', 'd', '▁weight', '▁loss', '▁–', '▁rather', '▁than', '▁die', 't', '▁composition', '▁–', '▁should', '▁be', '▁the', '▁principal', '▁target', '▁of', '▁dieta', 'ry', '▁intervention', 's', '▁for', '▁T', '2', 'D', '▁management', '.', '▁Contact', '▁Info', ':', '▁R', '.', '▁Drew', '▁Say', 'er', ',', '▁Community', '▁Health', '▁Services', '▁Building', '▁(', 'CH', '20)', '▁30', '7', 'B', ',', '▁9', '30', '▁20', 'th', '▁St', '▁S', ',', '▁Birmingham', ',', '▁AL', '▁35', '29', '4', ',', '▁say', 'erd', '@', 'u', 'ab', '.', 'edu', '.', '▁Author', '▁Con', 'tribution', ':', '▁JO', 'H', ',', '▁H', 'J', 'W', ',', '▁and', '▁R', 'DS', '▁conce', 'i', 'ved', '▁the', '▁research', '▁project', ';', '▁J', 'GC', '▁and', '</s>']\n",
      "Chunk 5: ['<s>', '▁conduct', 'ed', '▁the', '▁research', ';', '▁', 'ZP', '▁perform', 'ed', '▁the', '▁statistic', 'al', '▁analyse', 's', ';', '▁J', 'GC', '▁draft', 'ed', '▁the', '▁manu', 'script', '▁and', '▁R', 'DS', ',', '▁JO', 'H', ',', '▁H', 'J', 'W', ',', '▁R', 'DS', ',', '▁C', 'WC', ',', '▁M', 'TM', ',', '▁V', '▁AC', ',', '▁and', '▁', 'ZP', '▁provided', '▁critical', '▁feedback', '▁and', '▁edit', 's', '▁to', '▁the', '▁manu', 'script', '.', '▁All', '▁author', 's', '▁take', '▁responsibility', '▁for', '▁the', '▁final', '▁content', '▁of', '▁the', '▁manu', 'script', '.', '▁Clinic', 'al', '▁Tri', 'al', '▁Registr', 'ation', ':', '▁National', '▁Clinic', 'al', '▁Tri', 'al', '▁N', 'CT', '03', '83', '29', '33', '▁Dis', 'closure', ':', '▁All', '▁other', '▁author', 's', '▁declare', '▁no', '▁conflict', 's', '▁of', '▁interest', '.', '▁H', 'HS', '▁Public', '▁Access', '▁Author', '▁manu', 'script', '▁Ob', 'es', 'ity', '▁(', 'Sil', 'ver', '▁Spring', ')', '▁', '.', '▁Author', '▁manu', 'script', ';', '</s>']\n",
      "Chunk 6: ['<s>', '▁PM', 'C', '▁20', '24', '▁August', '▁01.', '▁Published', '▁in', '▁final', '▁edit', 'ed', '▁form', '▁as', ':', '▁Ob', 'es', 'ity', '▁(', 'Sil', 'ver', '▁Spring', ')', '▁', '.', '▁2023', '▁August', '▁;', '▁31', '(', '8)', ':', '▁2021', '–', '20', '30', '.', '▁do', 'i', ':10', '.', '100', '2/', 'oby', '.', '2', '38', '15', '.', '▁Author', '▁Manu', 'script', '▁Author', '▁Manu', 'script', '▁Author', '▁Manu', 'script', '▁Author', '▁Manu', 'script', '▁Keyword', 's', '▁obes', 'ity', ';', '▁weight', '▁loss', ';', '▁body', '▁composition', ';', '▁type', '▁2', '▁diabetes', '▁Introdu', 'ction', '▁Type', '▁2', '▁diabetes', '▁(', 'T', '2', 'D', ')', '▁affect', 's', '▁over', '▁30', '▁million', '▁adults', '▁in', '▁America', '▁and', '▁present', 's', '▁numerous', '▁public', '▁health', '▁challenges', '▁[', '▁1', ']', '.', '▁T', '2', 'D', '▁is', '▁a', '▁major', '▁risk', '▁factor', '▁for', '▁cardiovascular', '▁disease', '▁[', '▁2', ']', ',', '▁ki', 'dne', 'y', '▁disease', '▁[', '▁3', ',', '▁4', '</s>']\n",
      "Chunk 7: ['<s>', '▁a', 'mput', 'ation', '▁[', '▁5', '–', '7', ']', ',', '▁certain', '▁cancer', 's', '▁[', '▁8', ']', ',', '▁and', '▁blind', 'ness', '▁[', '▁9', ',', '▁10', ']', ',', '▁which', '▁results', '▁in', '▁a', '▁major', '▁cost', '▁burde', 'n', '▁to', '▁the', '▁health', 'care', '▁system', '▁[', '▁1', ']', '.', '▁The', '▁primary', '▁risk', '▁factor', '▁for', '▁T', '2', 'D', '▁is', '▁obes', 'ity', ',', '▁with', '▁the', '▁majority', '▁of', '▁those', '▁with', '▁T', '2', 'D', '▁having', '▁over', 'weight', '▁or', '▁obes', 'ity', '▁[', '▁11', ',', '▁12', ']', '.', '▁Ob', 'es', 'ity', '▁also', '▁increase', 's', '▁the', '▁risk', '▁of', '▁several', '▁other', '▁co', '-', 'mor', 'bid', '▁conditions', '▁including', '▁heart', '▁disease', '▁and', '▁stroke', '▁[', '11', ',', '▁13,', '▁14', ']', '.', '▁It', '▁has', '▁been', '▁demonstrat', 'ed', '▁that', '▁both', '▁T', '2', 'D', '▁and', '▁obes', 'ity', '▁can', '▁be', '▁treated', '▁with', '▁lifestyle', '</s>']\n",
      "Chunk 8: ['<s>', '▁increase', 's', '▁the', '▁risk', '▁of', '▁several', '▁other', '▁co', '-', 'mor', 'bid', '▁conditions', '▁including', '▁heart', '▁disease', '▁and', '▁stroke', '▁[', '11', ',', '▁13,', '▁14', ']', '.', '▁It', '▁has', '▁been', '▁demonstrat', 'ed', '▁that', '▁both', '▁T', '2', 'D', '▁and', '▁obes', 'ity', '▁can', '▁be', '▁treated', '▁with', '▁lifestyle', '▁modification', '.', '▁For', '▁example', ',', '▁in', '▁Di', 'R', 'ECT', '▁(', 'Dia', 'bete', 's', '▁Re', 'mission', '▁Clinic', 'al', '▁Tri', 'al', ')', '▁weight', '▁loss', '▁of', '▁10', '▁to', '▁15', '▁kg', '▁result', 'ed', '▁in', '▁the', '▁re', 'mission', '▁of', '▁T', '2', 'D', '▁in', '▁a', '▁majority', '▁of', '▁individuals', '▁who', '▁had', '▁been', '▁who', '▁had', '▁been', '▁diagnose', 'd', '▁with', '▁T', '2', 'D', '▁within', '▁the', '▁past', '▁6', '▁years', '.', '▁Ne', 'ar', 'ly', '▁9', '▁in', '▁10', '▁of', '▁individuals', '▁a', 'chie', 'ving', '▁more', '▁than', '▁15', '▁kg', '▁of', '▁weight', '▁loss', '▁remit', 'ted', '▁their', '▁T', '2', 'D', '</s>']\n",
      "Chunk 9: ['<s>', '▁]', '.', '▁While', '▁it', '▁is', '▁clear', '▁that', '▁weight', '▁loss', '▁is', '▁associated', '▁with', '▁improvement', 's', '▁in', '▁T', '2', 'D', ',', '▁the', '▁role', '▁of', '▁die', 't', '▁composition', '▁in', '▁the', '▁rever', 'sal', '▁of', '▁T', '2', 'D', '▁present', 's', '▁a', '▁gap', '▁in', '▁knowledge', '.', '▁High', 'er', '▁protein', '▁die', 'ts', '▁are', '▁an', '▁attractive', '▁target', '▁for', '▁lifestyle', '-', 'based', '▁intervention', 's', '▁for', '▁the', '▁treatment', '▁of', '▁T', '2', 'D', '.', '▁High', '▁protein', '▁die', 'ts', ',', '▁especially', '▁when', '▁combine', 'd', '▁with', '▁exercise', ',', '▁produce', '▁greater', '▁weight', '▁loss', '▁and', '▁prevent', '▁los', 'ses', '▁of', '▁fat', '▁free', '▁mass', '▁(', 'FF', 'M', ')', '▁compared', '▁to', '▁lower', '▁protein', '▁die', 'ts', '▁[', '▁16', '–18', ']', '.', '▁In', '▁pre', 'meno', 'paus', 'al', '▁women', '▁with', '▁obes', 'ity', '▁without', '▁diabetes', ',', '▁a', '▁high', '▁protein', '▁die', 't', '▁improve', 'd', '▁insulin', '▁', 'sensitiv', 'ity', '▁more', '</s>']\n"
     ]
    }
   ],
   "source": [
    "# Tokenisiert die ersten 10 Chunks auf 128 Tokens, wandelt IDs zurück zu lesbaren Tokens und zeigt sie an.\n",
    "model_name = \"paraphrase-multilingual-MiniLM-L12-v2\"\n",
    "model = SentenceTransformer(model_name)\n",
    "tokenized_chunks = []\n",
    "for i, text in enumerate(token_split_texts[:10]):\n",
    "    # Tokenize each chunk\n",
    "    encoded_input = model.tokenizer(text, padding=True, truncation=True, max_length=128, return_tensors='pt')\n",
    "    # Convert token IDs back to tokens\n",
    "    tokens = model.tokenizer.convert_ids_to_tokens(encoded_input['input_ids'][0].tolist())\n",
    "    tokenized_chunks.append(tokens)\n",
    "    print(f\"Chunk {i}: {tokens}\")"
   ]
  },
  {
   "cell_type": "code",
   "execution_count": 10,
   "metadata": {},
   "outputs": [
    {
     "name": "stdout",
     "output_type": "stream",
     "text": [
      "Chunk 0: ['[CLS]', 'High', 'and', 'normal', 'pro', '##te', '##in', 'die', '##ts', 'im', '##pro', '##ve', 'bo', '##dy', 'comp', '##osition', 'and', 'gl', '##uc', '##ose', 'con', '##trol', 'in', 'ad', '##ult', '##s', 'with', 'type', '2', 'di', '##abet', '##es', ':', 'A', 'ran', '##dom', '##ized', 'tri', '##al', 'Julian', '##ne', 'G', '.', 'Clin', '##a', '##1', ',', 'R', '.', 'Dre', '##w', 'Say', '##er', '##1', ',', '3', ',', 'Z', '##ha', '##ox', '##ing', 'Pan', '##2', ',', 'Caroline', 'W', '.', 'Cohen', '##3', ',', 'Michael', 'T', '.', 'Mc', '##Der', '##mo', '##tt', '##4', ',', 'Victoria', 'A', '.', 'Cat', '##ena', '##cc', '##i', '##4', ',', 'Holly', 'R', '.', 'Wy', '##att', '##1', ',', '5', ',', 'James', 'O', '.', 'Hill', '##1', '1', '##De', '##partment', 'of', 'Nut', '##rit', '##ion', 'Sciences', ',', 'University', 'of', 'Ala', '##ba', '##ma', 'at', 'Birmingham', '2', '##De', '##partment', 'of', 'Ped', '##iat', '##ric', '##s', ',', '[SEP]']\n",
      "Chunk 1: ['[CLS]', '4', '##Division', 'of', 'End', '##oc', '##rin', '##ology', ',', 'Met', '##abo', '##li', '##sm', 'and', 'Diabet', '##es', ',', 'University', 'of', 'Colorado', 'School', 'of', 'Med', '##ici', '##ne', ',', 'Aur', '##ora', ',', 'Colorado', '5', '##An', '##schutz', 'Health', 'and', 'Wellness', 'Center', ',', 'University', 'of', 'Colorado', 'Ans', '##ch', '##utz', 'Medical', 'Campus', 'Abstra', '##ct', 'Ob', '##ject', '##ive', ':', 'Wei', '##gh', '##t', 'los', '##s', 'of', '[UNK]', '%', 'im', '##pro', '##ves', 'gl', '##uc', '##ose', 'con', '##trol', 'and', 'may', 'rem', '##it', 'type', '2', 'di', '##abet', '##es', '(', 'T', '##2', '##D', ')', '.', 'High', 'pro', '##te', '##in', '(', 'H', '##P', ')', 'die', '##ts', 'are', 'comm', '##on', '##ly', 'use', '##d', 'for', 'wei', '##gh', '##t', 'los', '##s', ',', 'but', 'wh', '##ethe', '##r', 'pro', '##te', '##in', 'so', '##urce', '##s', ',', 'es', '##pe', '##cial', '##ly', 'red', 'me', '##at', ',', 'im', '##pa', '[SEP]']\n",
      "Chunk 2: ['[CLS]', 'wei', '##gh', '##t', 'los', '##s', ',', 'bo', '##dy', 'comp', '##osition', 'ch', '##ange', '##s', ',', 'and', 'gl', '##uc', '##ose', 'con', '##trol', 'in', 'individ', '##ual', '##s', 'with', 'T', '##2', '##D', '.', 'Metho', '##ds', ':', '106', 'ad', '##ult', '##s', '(', '80', 'fe', '##male', ')', 'with', 'T', '##2', '##D', 'con', '##sum', '##ed', 'a', 'H', '##P', '(', '40', '%', 'pro', '##te', '##in', ')', 'die', '##t', 'with', '[UNK]', 'we', '##ek', '##ly', 'serv', '##ings', 'of', 'le', '##an', 'be', '##ef', 'or', 'a', 'N', '##P', '(', '21', '%', 'pro', '##te', '##in', ')', 'die', '##t', 'ex', '##cl', '##udi', '##ng', 'red', 'me', '##at', 'dur', '##ing', 'a', '52', '-', 'we', '##ek', 'wei', '##gh', '##t', 'los', '##s', 'inter', '##vention', '.', 'Body', 'wei', '##gh', '##t', ',', 'bo', '##dy', 'comp', '##osition', ',', 'and', 'car', '##dio', '##met', '##abo', '##li', '##c', 'par', '##ameter', '[SEP]']\n",
      "Chunk 3: ['[CLS]', '8', 'kg', ',', 'p', '=', '0', '.', '33', '##6', ')', '.', 'Bot', '##h', 'gro', '##ups', 'red', '##uc', '##ed', 'fa', '##t', 'mass', 'and', 'in', '##cre', '##ase', '##d', 'fa', '##t', 'free', 'mass', 'per', '##cent', '.', 'Hem', '##ogl', '##obi', '##n', 'A', '##1', '##c', ',', 'gl', '##uc', '##ose', ',', 'ins', '##ulin', ',', 'ins', '##ulin', 'res', '##istan', '##ce', ',', 'blo', '##od', 'pre', '##ss', '##ure', ',', 'and', 'tri', '##gl', '##yce', '##rid', '##es', 'im', '##pro', '##ved', 'with', 'no', 'differ', '##ence', '##s', 'between', 'gro', '##ups', '.', 'Conc', '##lu', '##si', '##ons', ':', 'The', 'la', '##ck', 'of', 'ob', '##serv', '##ed', 'effe', '##cts', 'of', 'die', '##ta', '##ry', 'pro', '##te', '##in', 'and', 'red', 'me', '##at', 'con', '##sum', '##ption', 'on', 'wei', '##gh', '##t', 'los', '##s', 'and', 'im', '##pro', '##ved', 'car', '##dio', '##met', '##abo', '##li', '##c', 'he', '##alth', 'su', '##gge', '[SEP]']\n",
      "Chunk 4: ['[CLS]', 'Conc', '##lu', '##si', '##ons', ':', 'The', 'la', '##ck', 'of', 'ob', '##serv', '##ed', 'effe', '##cts', 'of', 'die', '##ta', '##ry', 'pro', '##te', '##in', 'and', 'red', 'me', '##at', 'con', '##sum', '##ption', 'on', 'wei', '##gh', '##t', 'los', '##s', 'and', 'im', '##pro', '##ved', 'car', '##dio', '##met', '##abo', '##li', '##c', 'he', '##alth', 'su', '##gge', '##st', 'that', 'ach', '##ie', '##ved', 'wei', '##gh', '##t', 'los', '##s', '–', 'rat', '##her', 'than', 'die', '##t', 'comp', '##osition', '–', 'sho', '##uld', 'be', 'the', 'pri', '##nc', '##ip', '##al', 'target', 'of', 'die', '##ta', '##ry', 'inter', '##vention', '##s', 'for', 'T', '##2', '##D', 'man', '##agement', '.', 'Con', '##tact', 'Info', ':', 'R', '.', 'Dre', '##w', 'Say', '##er', ',', 'Community', 'Health', 'Services', 'Bu', '##ilding', '(', 'CH', '##20', ')', '30', '##7', '##B', ',', '93', '##0', '20', '##th', 'St', 'S', ',', 'Birmingham', ',', 'AL', '35', '##29', '[SEP]']\n",
      "Chunk 5: ['[CLS]', 'con', '##du', '##ct', '##ed', 'the', 'res', '##earch', ';', 'Z', '##P', 'per', '##form', '##ed', 'the', 'stat', '##ist', '##ical', 'analys', '##es', ';', 'J', '##G', '##C', 'dra', '##fte', '##d', 'the', 'man', '##us', '##cr', '##ip', '##t', 'and', 'R', '##DS', ',', 'J', '##O', '##H', ',', 'H', '##J', '##W', ',', 'R', '##DS', ',', 'C', '##WC', ',', 'MT', '##M', ',', 'V', 'AC', ',', 'and', 'Z', '##P', 'pro', '##vide', '##d', 'c', '##rit', '##ical', 'fe', '##ed', '##back', 'and', 'edi', '##ts', 'to', 'the', 'man', '##us', '##cr', '##ip', '##t', '.', 'All', 'aut', '##hor', '##s', 'ta', '##ke', 'res', '##pon', '##sibil', '##ity', 'for', 'the', 'fin', '##al', 'con', '##tent', 'of', 'the', 'man', '##us', '##cr', '##ip', '##t', '.', 'Clin', '##ical', 'Tri', '##al', 'Registr', '##ation', ':', 'National', 'Clin', '##ical', 'Tri', '##al', 'N', '##CT', '##03', '##83', '##29', '##33', 'Dis', '##cl', '##os', '##ure', ':', '[SEP]']\n",
      "Chunk 6: ['[CLS]', 'PM', '##C', '202', '##4', 'August', '01', '.', 'Publ', '##ished', 'in', 'fin', '##al', 'edi', '##ted', 'form', 'as', ':', 'Ob', '##esi', '##ty', '(', 'Silver', 'Spring', ')', '.', '202', '##3', 'August', ';', '31', '(', '8', ')', ':', '2021', '–', '2030', '.', 'do', '##i', ':', '10', '.', '100', '##2', '/', 'ob', '##y', '.', '23', '##81', '##5', '.', 'Author', 'Man', '##us', '##cr', '##ip', '##t', 'Author', 'Man', '##us', '##cr', '##ip', '##t', 'Author', 'Man', '##us', '##cr', '##ip', '##t', 'Author', 'Man', '##us', '##cr', '##ip', '##t', 'Key', '##word', '##s', 'ob', '##esi', '##ty', ';', 'wei', '##gh', '##t', 'los', '##s', ';', 'bo', '##dy', 'comp', '##osition', ';', 'type', '2', 'di', '##abet', '##es', 'Int', '##rod', '##uc', '##tion', 'Typ', '##e', '2', 'di', '##abet', '##es', '(', 'T', '##2', '##D', ')', 'af', '##fe', '##cts', 'over', '30', 'million', 'ad', '##ult', '##s', 'in', 'America', '[SEP]']\n",
      "Chunk 7: ['[CLS]', 'am', '##put', '##ation', '[', '5', '–', '7', ']', ',', 'ce', '##rt', '##ain', 'can', '##cer', '##s', '[', '8', ']', ',', 'and', 'blind', '##ness', '[', '9', ',', '10', ']', ',', 'which', 'resul', '##ts', 'in', 'a', 'ma', '##jor', 'co', '##st', 'bu', '##rd', '##en', 'to', 'the', 'he', '##alth', '##car', '##e', 'system', '[', '1', ']', '.', 'The', 'prim', '##ary', 'risk', 'fac', '##tor', 'for', 'T', '##2', '##D', 'is', 'ob', '##esi', '##ty', ',', 'with', 'the', 'ma', '##jor', '##ity', 'of', 'th', '##ose', 'with', 'T', '##2', '##D', 'ha', '##vin', '##g', 'over', '##wei', '##gh', '##t', 'or', 'ob', '##esi', '##ty', '[', '11', ',', '12', ']', '.', 'Ob', '##esi', '##ty', 'also', 'in', '##cre', '##ases', 'the', 'risk', 'of', 'se', '##ver', '##al', 'other', 'co', '-', 'mor', '##bi', '##d', 'con', '##dition', '##s', 'incl', '##udi', '##ng', 'he', '##art', 'dis', '##ea', '##se', 'and', '[SEP]']\n",
      "Chunk 8: ['[CLS]', 'in', '##cre', '##ases', 'the', 'risk', 'of', 'se', '##ver', '##al', 'other', 'co', '-', 'mor', '##bi', '##d', 'con', '##dition', '##s', 'incl', '##udi', '##ng', 'he', '##art', 'dis', '##ea', '##se', 'and', 'st', '##ro', '##ke', '[', '11', ',', '13', ',', '14', ']', '.', 'It', 'has', 'been', 'demonstr', '##ated', 'that', 'bot', '##h', 'T', '##2', '##D', 'and', 'ob', '##esi', '##ty', 'can', 'be', 'tre', '##ated', 'with', 'life', '##style', 'modif', '##ication', '.', 'For', 'ex', '##amp', '##le', ',', 'in', 'Di', '##R', '##EC', '##T', '(', 'Diabet', '##es', 'Rem', '##ission', 'Clin', '##ical', 'Tri', '##al', ')', 'wei', '##gh', '##t', 'los', '##s', 'of', '10', 'to', '15', 'kg', 'resul', '##ted', 'in', 'the', 'rem', '##ission', 'of', 'T', '##2', '##D', 'in', 'a', 'ma', '##jor', '##ity', 'of', 'individ', '##ual', '##s', 'who', 'had', 'been', 'who', 'had', 'been', 'di', '##agnose', '##d', 'with', 'T', '##2', '##D', 'with', '[SEP]']\n",
      "Chunk 9: ['[CLS]', ']', '.', 'Wh', '##ile', 'it', 'is', 'cle', '##ar', 'that', 'wei', '##gh', '##t', 'los', '##s', 'is', 'ass', '##oc', '##iat', '##ed', 'with', 'im', '##pro', '##ve', '##ments', 'in', 'T', '##2', '##D', ',', 'the', 'ro', '##le', 'of', 'die', '##t', 'comp', '##osition', 'in', 'the', 're', '##vers', '##al', 'of', 'T', '##2', '##D', 'pre', '##sent', '##s', 'a', 'ga', '##p', 'in', 'know', '##led', '##ge', '.', 'High', '##er', 'pro', '##te', '##in', 'die', '##ts', 'are', 'an', 'attra', '##ct', '##ive', 'target', 'for', 'life', '##style', '-', 'based', 'inter', '##vention', '##s', 'for', 'the', 'tre', '##at', '##ment', 'of', 'T', '##2', '##D', '.', 'High', 'pro', '##te', '##in', 'die', '##ts', ',', 'es', '##pe', '##cial', '##ly', 'when', 'com', '##bin', '##ed', 'with', 'ex', '##er', '##cis', '##e', ',', 'produ', '##ce', 'great', '##er', 'wei', '##gh', '##t', 'los', '##s', 'and', 'pre', '##vent', 'los', '##ses', 'of', 'fa', '##t', '[SEP]']\n"
     ]
    }
   ],
   "source": [
    "#Jetzt wird ein Modell verwendet, das speziell für deutsche Texte optimiert ist, dadurch werden die Tokenisierung \n",
    "# und spätere Embeddings besser auf Deutsch angepasst.\n",
    "model_name = \"Sahajtomar/German-semantic\"\n",
    "model = SentenceTransformer(model_name)\n",
    "tokenized_chunks = []\n",
    "for i, text in enumerate(token_split_texts[:10]):\n",
    "    # Tokenize each chunk\n",
    "    encoded_input = model.tokenizer(text, padding=True, truncation=True, max_length=128, return_tensors='pt')\n",
    "    # Convert token IDs back to tokens\n",
    "    tokens = model.tokenizer.convert_ids_to_tokens(encoded_input['input_ids'][0].tolist())\n",
    "    tokenized_chunks.append(tokens)\n",
    "    print(f\"Chunk {i}: {tokens}\")"
   ]
  },
  {
   "cell_type": "markdown",
   "metadata": {},
   "source": [
    "## 4. Generating Embeddings for Each Chunk\n",
    "\n",
    "Now we convert each text chunk into a numerical embedding that captures its semantic meaning. These embeddings will be used for similarity search."
   ]
  },
  {
   "cell_type": "code",
   "execution_count": 11,
   "metadata": {},
   "outputs": [
    {
     "name": "stderr",
     "output_type": "stream",
     "text": [
      "/tmp/ipykernel_14922/4140566380.py:2: LangChainDeprecationWarning: The class `HuggingFaceEmbeddings` was deprecated in LangChain 0.2.2 and will be removed in 1.0. An updated version of the class exists in the :class:`~langchain-huggingface package and should be used instead. To use it run `pip install -U :class:`~langchain-huggingface` and import as `from :class:`~langchain_huggingface import HuggingFaceEmbeddings``.\n",
      "  embeddings = HuggingFaceEmbeddings(model_name=\"paraphrase-multilingual-MiniLM-L12-v2\")\n"
     ]
    }
   ],
   "source": [
    "# Wandelt alle Token-Chunks direkt in Embeddings um und speichert sie als NumPy-Array.\n",
    "embeddings = HuggingFaceEmbeddings(model_name=\"paraphrase-multilingual-MiniLM-L12-v2\")\n",
    "chunk_embeddings = model.encode(token_split_texts, convert_to_numpy=True)"
   ]
  },
  {
   "cell_type": "markdown",
   "metadata": {},
   "source": [
    "\"\"\"\n",
    "## 5. Building a FAISS Vector Store\n",
    "\n",
    "FAISS is a powerful library for efficient similarity search. Here, we build an index from our embeddings. Remember, FAISS only stores the numerical vectors so we must keep our original text mapping separately.\n",
    "\"\"\""
   ]
  },
  {
   "cell_type": "code",
   "execution_count": 12,
   "metadata": {},
   "outputs": [
    {
     "name": "stdout",
     "output_type": "stream",
     "text": [
      "Anzahl der Dimensionen pro Embedding: 1024\n"
     ]
    }
   ],
   "source": [
    "#Der Code gibt die Anzahl der Dimensionen jedes Embedding-Vektors aus – also die Vektorgröße.\n",
    "# chunk_embeddings = [\n",
    "#  [0.12, -0.88, 0.45, 0.77, ..., 0.33],  # ➔ Chunk 1 (ein Embedding)\n",
    "#  [0.34, -0.22, 0.78, 0.11, ..., -0.50], # ➔ Chunk 2\n",
    "#  [0.91,  0.05, 0.12, -0.99, ..., 0.71], # ➔ Chunk 3\n",
    "#]\n",
    "# shape[1]-> Grösse der zweiten Dimension, also die Anzahl der Dimensionen jedes Embedding-Vektors.\n",
    "d = chunk_embeddings.shape[1]\n",
    "print(f\"Anzahl der Dimensionen pro Embedding: {d}\")"
   ]
  },
  {
   "cell_type": "code",
   "execution_count": 13,
   "metadata": {},
   "outputs": [
    {
     "name": "stdout",
     "output_type": "stream",
     "text": [
      "Number of embeddings in FAISS index: 120\n"
     ]
    }
   ],
   "source": [
    "# Der Code erstellt einen FAISS-Index für effiziente Ähnlichkeitssuche, fügt Embeddings hinzu \n",
    "# und gibt die Anzahl der gespeicherten Vektoren aus.\n",
    "# L2-Distanz (euklidische Distanz) verwendet\n",
    "index = faiss.IndexFlatL2(d)\n",
    "index.add(chunk_embeddings)\n",
    "print(\"Number of embeddings in FAISS index:\", index.ntotal)"
   ]
  },
  {
   "cell_type": "code",
   "execution_count": 14,
   "metadata": {},
   "outputs": [],
   "source": [
    "#Der Code speichert den FAISS-Index und die zugehörigen Text-Chunks lokal ab, um sie später wiederverwenden zu können.\n",
    "faiss.write_index(index, \"faiss/faiss_index.index\")\n",
    "with open(\"faiss/chunks_mapping.pkl\", \"wb\") as f:\n",
    "    pickle.dump(chunks, f)"
   ]
  },
  {
   "cell_type": "code",
   "execution_count": 15,
   "metadata": {},
   "outputs": [
    {
     "name": "stdout",
     "output_type": "stream",
     "text": [
      "28\n",
      "120\n"
     ]
    }
   ],
   "source": [
    "#Musste hier zuerst faiss folder erstellen!\n",
    "#Der Code lädt den gespeicherten FAISS-Index und die Chunk-Texte wieder aus Dateien und prüft, \n",
    "#ob die Anzahl der geladenen Chunks mit den ursprünglichen übereinstimmt.\n",
    "index_2 = faiss.read_index(\"faiss/faiss_index.index\")\n",
    "with open(\"faiss/chunks_mapping.pkl\", \"rb\") as f:\n",
    "    token_split_texts_2 = pickle.load(f)\n",
    "print(len(token_split_texts_2))\n",
    "print(len(token_split_texts))"
   ]
  },
  {
   "cell_type": "markdown",
   "metadata": {},
   "source": [
    "## 6. Projecting Embeddings with UMAP\n",
    "\n",
    "To visualize high-dimensional embeddings, we use UMAP to project them into 2D space. You can project both the entire dataset and individual query embeddings."
   ]
  },
  {
   "cell_type": "code",
   "execution_count": 16,
   "metadata": {},
   "outputs": [
    {
     "name": "stderr",
     "output_type": "stream",
     "text": [
      "/usr/local/python/3.12.1/lib/python3.12/site-packages/sklearn/utils/deprecation.py:151: FutureWarning: 'force_all_finite' was renamed to 'ensure_all_finite' in 1.6 and will be removed in 1.8.\n",
      "  warnings.warn(\n",
      "/usr/local/python/3.12.1/lib/python3.12/site-packages/umap/umap_.py:1952: UserWarning: n_jobs value 1 overridden to 1 by setting random_state. Use no seed for parallelism.\n",
      "  warn(\n"
     ]
    }
   ],
   "source": [
    "# Fit UMAP on the full dataset embeddings\n",
    "# Der Code trainiert UMAP auf den Embeddings, um sie auf 2D zu reduzieren, und definiert eine Funktion, \n",
    "# die beliebige Embeddings mithilfe dieser UMAP-Transformation in zwei Dimensionen projiziert – z. B. für die Visualisierung.\n",
    "umap_transform = umap.UMAP(random_state=0, transform_seed=0).fit(chunk_embeddings)\n",
    "\n",
    "def project_embeddings(embeddings, umap_transform):\n",
    "    \"\"\"\n",
    "    Project a set of embeddings using a pre-fitted UMAP transform.\n",
    "    \"\"\"\n",
    "    umap_embeddings = np.empty((len(embeddings), 2))\n",
    "    for i, embedding in enumerate(tqdm.tqdm(embeddings, desc=\"Projecting Embeddings\")):\n",
    "        umap_embeddings[i] = umap_transform.transform([embedding])\n",
    "    return umap_embeddings\n"
   ]
  },
  {
   "cell_type": "code",
   "execution_count": 17,
   "metadata": {},
   "outputs": [
    {
     "name": "stderr",
     "output_type": "stream",
     "text": [
      "Projecting Embeddings:   0%|          | 0/120 [00:00<?, ?it/s]/usr/local/python/3.12.1/lib/python3.12/site-packages/sklearn/utils/deprecation.py:151: FutureWarning: 'force_all_finite' was renamed to 'ensure_all_finite' in 1.6 and will be removed in 1.8.\n",
      "  warnings.warn(\n",
      "Projecting Embeddings:   1%|          | 1/120 [00:01<03:49,  1.93s/it]/usr/local/python/3.12.1/lib/python3.12/site-packages/sklearn/utils/deprecation.py:151: FutureWarning: 'force_all_finite' was renamed to 'ensure_all_finite' in 1.6 and will be removed in 1.8.\n",
      "  warnings.warn(\n",
      "/usr/local/python/3.12.1/lib/python3.12/site-packages/sklearn/utils/deprecation.py:151: FutureWarning: 'force_all_finite' was renamed to 'ensure_all_finite' in 1.6 and will be removed in 1.8.\n",
      "  warnings.warn(\n",
      "/usr/local/python/3.12.1/lib/python3.12/site-packages/sklearn/utils/deprecation.py:151: FutureWarning: 'force_all_finite' was renamed to 'ensure_all_finite' in 1.6 and will be removed in 1.8.\n",
      "  warnings.warn(\n",
      "/usr/local/python/3.12.1/lib/python3.12/site-packages/sklearn/utils/deprecation.py:151: FutureWarning: 'force_all_finite' was renamed to 'ensure_all_finite' in 1.6 and will be removed in 1.8.\n",
      "  warnings.warn(\n",
      "/usr/local/python/3.12.1/lib/python3.12/site-packages/sklearn/utils/deprecation.py:151: FutureWarning: 'force_all_finite' was renamed to 'ensure_all_finite' in 1.6 and will be removed in 1.8.\n",
      "  warnings.warn(\n",
      "/usr/local/python/3.12.1/lib/python3.12/site-packages/sklearn/utils/deprecation.py:151: FutureWarning: 'force_all_finite' was renamed to 'ensure_all_finite' in 1.6 and will be removed in 1.8.\n",
      "  warnings.warn(\n",
      "/usr/local/python/3.12.1/lib/python3.12/site-packages/sklearn/utils/deprecation.py:151: FutureWarning: 'force_all_finite' was renamed to 'ensure_all_finite' in 1.6 and will be removed in 1.8.\n",
      "  warnings.warn(\n",
      "/usr/local/python/3.12.1/lib/python3.12/site-packages/sklearn/utils/deprecation.py:151: FutureWarning: 'force_all_finite' was renamed to 'ensure_all_finite' in 1.6 and will be removed in 1.8.\n",
      "  warnings.warn(\n",
      "/usr/local/python/3.12.1/lib/python3.12/site-packages/sklearn/utils/deprecation.py:151: FutureWarning: 'force_all_finite' was renamed to 'ensure_all_finite' in 1.6 and will be removed in 1.8.\n",
      "  warnings.warn(\n",
      "/usr/local/python/3.12.1/lib/python3.12/site-packages/sklearn/utils/deprecation.py:151: FutureWarning: 'force_all_finite' was renamed to 'ensure_all_finite' in 1.6 and will be removed in 1.8.\n",
      "  warnings.warn(\n",
      "/usr/local/python/3.12.1/lib/python3.12/site-packages/sklearn/utils/deprecation.py:151: FutureWarning: 'force_all_finite' was renamed to 'ensure_all_finite' in 1.6 and will be removed in 1.8.\n",
      "  warnings.warn(\n",
      "/usr/local/python/3.12.1/lib/python3.12/site-packages/sklearn/utils/deprecation.py:151: FutureWarning: 'force_all_finite' was renamed to 'ensure_all_finite' in 1.6 and will be removed in 1.8.\n",
      "  warnings.warn(\n",
      "/usr/local/python/3.12.1/lib/python3.12/site-packages/sklearn/utils/deprecation.py:151: FutureWarning: 'force_all_finite' was renamed to 'ensure_all_finite' in 1.6 and will be removed in 1.8.\n",
      "  warnings.warn(\n",
      "/usr/local/python/3.12.1/lib/python3.12/site-packages/sklearn/utils/deprecation.py:151: FutureWarning: 'force_all_finite' was renamed to 'ensure_all_finite' in 1.6 and will be removed in 1.8.\n",
      "  warnings.warn(\n",
      "/usr/local/python/3.12.1/lib/python3.12/site-packages/sklearn/utils/deprecation.py:151: FutureWarning: 'force_all_finite' was renamed to 'ensure_all_finite' in 1.6 and will be removed in 1.8.\n",
      "  warnings.warn(\n",
      "/usr/local/python/3.12.1/lib/python3.12/site-packages/sklearn/utils/deprecation.py:151: FutureWarning: 'force_all_finite' was renamed to 'ensure_all_finite' in 1.6 and will be removed in 1.8.\n",
      "  warnings.warn(\n",
      "/usr/local/python/3.12.1/lib/python3.12/site-packages/sklearn/utils/deprecation.py:151: FutureWarning: 'force_all_finite' was renamed to 'ensure_all_finite' in 1.6 and will be removed in 1.8.\n",
      "  warnings.warn(\n",
      "/usr/local/python/3.12.1/lib/python3.12/site-packages/sklearn/utils/deprecation.py:151: FutureWarning: 'force_all_finite' was renamed to 'ensure_all_finite' in 1.6 and will be removed in 1.8.\n",
      "  warnings.warn(\n",
      "/usr/local/python/3.12.1/lib/python3.12/site-packages/sklearn/utils/deprecation.py:151: FutureWarning: 'force_all_finite' was renamed to 'ensure_all_finite' in 1.6 and will be removed in 1.8.\n",
      "  warnings.warn(\n",
      "/usr/local/python/3.12.1/lib/python3.12/site-packages/sklearn/utils/deprecation.py:151: FutureWarning: 'force_all_finite' was renamed to 'ensure_all_finite' in 1.6 and will be removed in 1.8.\n",
      "  warnings.warn(\n",
      "/usr/local/python/3.12.1/lib/python3.12/site-packages/sklearn/utils/deprecation.py:151: FutureWarning: 'force_all_finite' was renamed to 'ensure_all_finite' in 1.6 and will be removed in 1.8.\n",
      "  warnings.warn(\n",
      "/usr/local/python/3.12.1/lib/python3.12/site-packages/sklearn/utils/deprecation.py:151: FutureWarning: 'force_all_finite' was renamed to 'ensure_all_finite' in 1.6 and will be removed in 1.8.\n",
      "  warnings.warn(\n",
      "/usr/local/python/3.12.1/lib/python3.12/site-packages/sklearn/utils/deprecation.py:151: FutureWarning: 'force_all_finite' was renamed to 'ensure_all_finite' in 1.6 and will be removed in 1.8.\n",
      "  warnings.warn(\n",
      "/usr/local/python/3.12.1/lib/python3.12/site-packages/sklearn/utils/deprecation.py:151: FutureWarning: 'force_all_finite' was renamed to 'ensure_all_finite' in 1.6 and will be removed in 1.8.\n",
      "  warnings.warn(\n",
      "/usr/local/python/3.12.1/lib/python3.12/site-packages/sklearn/utils/deprecation.py:151: FutureWarning: 'force_all_finite' was renamed to 'ensure_all_finite' in 1.6 and will be removed in 1.8.\n",
      "  warnings.warn(\n",
      "/usr/local/python/3.12.1/lib/python3.12/site-packages/sklearn/utils/deprecation.py:151: FutureWarning: 'force_all_finite' was renamed to 'ensure_all_finite' in 1.6 and will be removed in 1.8.\n",
      "  warnings.warn(\n",
      "/usr/local/python/3.12.1/lib/python3.12/site-packages/sklearn/utils/deprecation.py:151: FutureWarning: 'force_all_finite' was renamed to 'ensure_all_finite' in 1.6 and will be removed in 1.8.\n",
      "  warnings.warn(\n",
      "/usr/local/python/3.12.1/lib/python3.12/site-packages/sklearn/utils/deprecation.py:151: FutureWarning: 'force_all_finite' was renamed to 'ensure_all_finite' in 1.6 and will be removed in 1.8.\n",
      "  warnings.warn(\n",
      "/usr/local/python/3.12.1/lib/python3.12/site-packages/sklearn/utils/deprecation.py:151: FutureWarning: 'force_all_finite' was renamed to 'ensure_all_finite' in 1.6 and will be removed in 1.8.\n",
      "  warnings.warn(\n",
      "/usr/local/python/3.12.1/lib/python3.12/site-packages/sklearn/utils/deprecation.py:151: FutureWarning: 'force_all_finite' was renamed to 'ensure_all_finite' in 1.6 and will be removed in 1.8.\n",
      "  warnings.warn(\n",
      "/usr/local/python/3.12.1/lib/python3.12/site-packages/sklearn/utils/deprecation.py:151: FutureWarning: 'force_all_finite' was renamed to 'ensure_all_finite' in 1.6 and will be removed in 1.8.\n",
      "  warnings.warn(\n",
      "/usr/local/python/3.12.1/lib/python3.12/site-packages/sklearn/utils/deprecation.py:151: FutureWarning: 'force_all_finite' was renamed to 'ensure_all_finite' in 1.6 and will be removed in 1.8.\n",
      "  warnings.warn(\n",
      "/usr/local/python/3.12.1/lib/python3.12/site-packages/sklearn/utils/deprecation.py:151: FutureWarning: 'force_all_finite' was renamed to 'ensure_all_finite' in 1.6 and will be removed in 1.8.\n",
      "  warnings.warn(\n",
      "/usr/local/python/3.12.1/lib/python3.12/site-packages/sklearn/utils/deprecation.py:151: FutureWarning: 'force_all_finite' was renamed to 'ensure_all_finite' in 1.6 and will be removed in 1.8.\n",
      "  warnings.warn(\n",
      "/usr/local/python/3.12.1/lib/python3.12/site-packages/sklearn/utils/deprecation.py:151: FutureWarning: 'force_all_finite' was renamed to 'ensure_all_finite' in 1.6 and will be removed in 1.8.\n",
      "  warnings.warn(\n",
      "/usr/local/python/3.12.1/lib/python3.12/site-packages/sklearn/utils/deprecation.py:151: FutureWarning: 'force_all_finite' was renamed to 'ensure_all_finite' in 1.6 and will be removed in 1.8.\n",
      "  warnings.warn(\n",
      "/usr/local/python/3.12.1/lib/python3.12/site-packages/sklearn/utils/deprecation.py:151: FutureWarning: 'force_all_finite' was renamed to 'ensure_all_finite' in 1.6 and will be removed in 1.8.\n",
      "  warnings.warn(\n",
      "/usr/local/python/3.12.1/lib/python3.12/site-packages/sklearn/utils/deprecation.py:151: FutureWarning: 'force_all_finite' was renamed to 'ensure_all_finite' in 1.6 and will be removed in 1.8.\n",
      "  warnings.warn(\n",
      "/usr/local/python/3.12.1/lib/python3.12/site-packages/sklearn/utils/deprecation.py:151: FutureWarning: 'force_all_finite' was renamed to 'ensure_all_finite' in 1.6 and will be removed in 1.8.\n",
      "  warnings.warn(\n",
      "/usr/local/python/3.12.1/lib/python3.12/site-packages/sklearn/utils/deprecation.py:151: FutureWarning: 'force_all_finite' was renamed to 'ensure_all_finite' in 1.6 and will be removed in 1.8.\n",
      "  warnings.warn(\n",
      "/usr/local/python/3.12.1/lib/python3.12/site-packages/sklearn/utils/deprecation.py:151: FutureWarning: 'force_all_finite' was renamed to 'ensure_all_finite' in 1.6 and will be removed in 1.8.\n",
      "  warnings.warn(\n",
      "/usr/local/python/3.12.1/lib/python3.12/site-packages/sklearn/utils/deprecation.py:151: FutureWarning: 'force_all_finite' was renamed to 'ensure_all_finite' in 1.6 and will be removed in 1.8.\n",
      "  warnings.warn(\n",
      "/usr/local/python/3.12.1/lib/python3.12/site-packages/sklearn/utils/deprecation.py:151: FutureWarning: 'force_all_finite' was renamed to 'ensure_all_finite' in 1.6 and will be removed in 1.8.\n",
      "  warnings.warn(\n",
      "Projecting Embeddings:  37%|███▋      | 44/120 [00:02<00:02, 30.04it/s]/usr/local/python/3.12.1/lib/python3.12/site-packages/sklearn/utils/deprecation.py:151: FutureWarning: 'force_all_finite' was renamed to 'ensure_all_finite' in 1.6 and will be removed in 1.8.\n",
      "  warnings.warn(\n",
      "/usr/local/python/3.12.1/lib/python3.12/site-packages/sklearn/utils/deprecation.py:151: FutureWarning: 'force_all_finite' was renamed to 'ensure_all_finite' in 1.6 and will be removed in 1.8.\n",
      "  warnings.warn(\n",
      "/usr/local/python/3.12.1/lib/python3.12/site-packages/sklearn/utils/deprecation.py:151: FutureWarning: 'force_all_finite' was renamed to 'ensure_all_finite' in 1.6 and will be removed in 1.8.\n",
      "  warnings.warn(\n",
      "/usr/local/python/3.12.1/lib/python3.12/site-packages/sklearn/utils/deprecation.py:151: FutureWarning: 'force_all_finite' was renamed to 'ensure_all_finite' in 1.6 and will be removed in 1.8.\n",
      "  warnings.warn(\n",
      "/usr/local/python/3.12.1/lib/python3.12/site-packages/sklearn/utils/deprecation.py:151: FutureWarning: 'force_all_finite' was renamed to 'ensure_all_finite' in 1.6 and will be removed in 1.8.\n",
      "  warnings.warn(\n",
      "/usr/local/python/3.12.1/lib/python3.12/site-packages/sklearn/utils/deprecation.py:151: FutureWarning: 'force_all_finite' was renamed to 'ensure_all_finite' in 1.6 and will be removed in 1.8.\n",
      "  warnings.warn(\n",
      "/usr/local/python/3.12.1/lib/python3.12/site-packages/sklearn/utils/deprecation.py:151: FutureWarning: 'force_all_finite' was renamed to 'ensure_all_finite' in 1.6 and will be removed in 1.8.\n",
      "  warnings.warn(\n",
      "/usr/local/python/3.12.1/lib/python3.12/site-packages/sklearn/utils/deprecation.py:151: FutureWarning: 'force_all_finite' was renamed to 'ensure_all_finite' in 1.6 and will be removed in 1.8.\n",
      "  warnings.warn(\n",
      "/usr/local/python/3.12.1/lib/python3.12/site-packages/sklearn/utils/deprecation.py:151: FutureWarning: 'force_all_finite' was renamed to 'ensure_all_finite' in 1.6 and will be removed in 1.8.\n",
      "  warnings.warn(\n",
      "/usr/local/python/3.12.1/lib/python3.12/site-packages/sklearn/utils/deprecation.py:151: FutureWarning: 'force_all_finite' was renamed to 'ensure_all_finite' in 1.6 and will be removed in 1.8.\n",
      "  warnings.warn(\n",
      "/usr/local/python/3.12.1/lib/python3.12/site-packages/sklearn/utils/deprecation.py:151: FutureWarning: 'force_all_finite' was renamed to 'ensure_all_finite' in 1.6 and will be removed in 1.8.\n",
      "  warnings.warn(\n",
      "/usr/local/python/3.12.1/lib/python3.12/site-packages/sklearn/utils/deprecation.py:151: FutureWarning: 'force_all_finite' was renamed to 'ensure_all_finite' in 1.6 and will be removed in 1.8.\n",
      "  warnings.warn(\n",
      "/usr/local/python/3.12.1/lib/python3.12/site-packages/sklearn/utils/deprecation.py:151: FutureWarning: 'force_all_finite' was renamed to 'ensure_all_finite' in 1.6 and will be removed in 1.8.\n",
      "  warnings.warn(\n",
      "/usr/local/python/3.12.1/lib/python3.12/site-packages/sklearn/utils/deprecation.py:151: FutureWarning: 'force_all_finite' was renamed to 'ensure_all_finite' in 1.6 and will be removed in 1.8.\n",
      "  warnings.warn(\n",
      "/usr/local/python/3.12.1/lib/python3.12/site-packages/sklearn/utils/deprecation.py:151: FutureWarning: 'force_all_finite' was renamed to 'ensure_all_finite' in 1.6 and will be removed in 1.8.\n",
      "  warnings.warn(\n",
      "/usr/local/python/3.12.1/lib/python3.12/site-packages/sklearn/utils/deprecation.py:151: FutureWarning: 'force_all_finite' was renamed to 'ensure_all_finite' in 1.6 and will be removed in 1.8.\n",
      "  warnings.warn(\n",
      "/usr/local/python/3.12.1/lib/python3.12/site-packages/sklearn/utils/deprecation.py:151: FutureWarning: 'force_all_finite' was renamed to 'ensure_all_finite' in 1.6 and will be removed in 1.8.\n",
      "  warnings.warn(\n",
      "/usr/local/python/3.12.1/lib/python3.12/site-packages/sklearn/utils/deprecation.py:151: FutureWarning: 'force_all_finite' was renamed to 'ensure_all_finite' in 1.6 and will be removed in 1.8.\n",
      "  warnings.warn(\n",
      "/usr/local/python/3.12.1/lib/python3.12/site-packages/sklearn/utils/deprecation.py:151: FutureWarning: 'force_all_finite' was renamed to 'ensure_all_finite' in 1.6 and will be removed in 1.8.\n",
      "  warnings.warn(\n",
      "/usr/local/python/3.12.1/lib/python3.12/site-packages/sklearn/utils/deprecation.py:151: FutureWarning: 'force_all_finite' was renamed to 'ensure_all_finite' in 1.6 and will be removed in 1.8.\n",
      "  warnings.warn(\n",
      "/usr/local/python/3.12.1/lib/python3.12/site-packages/sklearn/utils/deprecation.py:151: FutureWarning: 'force_all_finite' was renamed to 'ensure_all_finite' in 1.6 and will be removed in 1.8.\n",
      "  warnings.warn(\n",
      "/usr/local/python/3.12.1/lib/python3.12/site-packages/sklearn/utils/deprecation.py:151: FutureWarning: 'force_all_finite' was renamed to 'ensure_all_finite' in 1.6 and will be removed in 1.8.\n",
      "  warnings.warn(\n",
      "/usr/local/python/3.12.1/lib/python3.12/site-packages/sklearn/utils/deprecation.py:151: FutureWarning: 'force_all_finite' was renamed to 'ensure_all_finite' in 1.6 and will be removed in 1.8.\n",
      "  warnings.warn(\n",
      "/usr/local/python/3.12.1/lib/python3.12/site-packages/sklearn/utils/deprecation.py:151: FutureWarning: 'force_all_finite' was renamed to 'ensure_all_finite' in 1.6 and will be removed in 1.8.\n",
      "  warnings.warn(\n",
      "/usr/local/python/3.12.1/lib/python3.12/site-packages/sklearn/utils/deprecation.py:151: FutureWarning: 'force_all_finite' was renamed to 'ensure_all_finite' in 1.6 and will be removed in 1.8.\n",
      "  warnings.warn(\n",
      "/usr/local/python/3.12.1/lib/python3.12/site-packages/sklearn/utils/deprecation.py:151: FutureWarning: 'force_all_finite' was renamed to 'ensure_all_finite' in 1.6 and will be removed in 1.8.\n",
      "  warnings.warn(\n",
      "/usr/local/python/3.12.1/lib/python3.12/site-packages/sklearn/utils/deprecation.py:151: FutureWarning: 'force_all_finite' was renamed to 'ensure_all_finite' in 1.6 and will be removed in 1.8.\n",
      "  warnings.warn(\n",
      "/usr/local/python/3.12.1/lib/python3.12/site-packages/sklearn/utils/deprecation.py:151: FutureWarning: 'force_all_finite' was renamed to 'ensure_all_finite' in 1.6 and will be removed in 1.8.\n",
      "  warnings.warn(\n",
      "Projecting Embeddings:  60%|██████    | 72/120 [00:02<00:00, 52.38it/s]/usr/local/python/3.12.1/lib/python3.12/site-packages/sklearn/utils/deprecation.py:151: FutureWarning: 'force_all_finite' was renamed to 'ensure_all_finite' in 1.6 and will be removed in 1.8.\n",
      "  warnings.warn(\n",
      "/usr/local/python/3.12.1/lib/python3.12/site-packages/sklearn/utils/deprecation.py:151: FutureWarning: 'force_all_finite' was renamed to 'ensure_all_finite' in 1.6 and will be removed in 1.8.\n",
      "  warnings.warn(\n",
      "/usr/local/python/3.12.1/lib/python3.12/site-packages/sklearn/utils/deprecation.py:151: FutureWarning: 'force_all_finite' was renamed to 'ensure_all_finite' in 1.6 and will be removed in 1.8.\n",
      "  warnings.warn(\n",
      "/usr/local/python/3.12.1/lib/python3.12/site-packages/sklearn/utils/deprecation.py:151: FutureWarning: 'force_all_finite' was renamed to 'ensure_all_finite' in 1.6 and will be removed in 1.8.\n",
      "  warnings.warn(\n",
      "/usr/local/python/3.12.1/lib/python3.12/site-packages/sklearn/utils/deprecation.py:151: FutureWarning: 'force_all_finite' was renamed to 'ensure_all_finite' in 1.6 and will be removed in 1.8.\n",
      "  warnings.warn(\n",
      "/usr/local/python/3.12.1/lib/python3.12/site-packages/sklearn/utils/deprecation.py:151: FutureWarning: 'force_all_finite' was renamed to 'ensure_all_finite' in 1.6 and will be removed in 1.8.\n",
      "  warnings.warn(\n",
      "/usr/local/python/3.12.1/lib/python3.12/site-packages/sklearn/utils/deprecation.py:151: FutureWarning: 'force_all_finite' was renamed to 'ensure_all_finite' in 1.6 and will be removed in 1.8.\n",
      "  warnings.warn(\n",
      "/usr/local/python/3.12.1/lib/python3.12/site-packages/sklearn/utils/deprecation.py:151: FutureWarning: 'force_all_finite' was renamed to 'ensure_all_finite' in 1.6 and will be removed in 1.8.\n",
      "  warnings.warn(\n",
      "/usr/local/python/3.12.1/lib/python3.12/site-packages/sklearn/utils/deprecation.py:151: FutureWarning: 'force_all_finite' was renamed to 'ensure_all_finite' in 1.6 and will be removed in 1.8.\n",
      "  warnings.warn(\n",
      "/usr/local/python/3.12.1/lib/python3.12/site-packages/sklearn/utils/deprecation.py:151: FutureWarning: 'force_all_finite' was renamed to 'ensure_all_finite' in 1.6 and will be removed in 1.8.\n",
      "  warnings.warn(\n",
      "/usr/local/python/3.12.1/lib/python3.12/site-packages/sklearn/utils/deprecation.py:151: FutureWarning: 'force_all_finite' was renamed to 'ensure_all_finite' in 1.6 and will be removed in 1.8.\n",
      "  warnings.warn(\n",
      "/usr/local/python/3.12.1/lib/python3.12/site-packages/sklearn/utils/deprecation.py:151: FutureWarning: 'force_all_finite' was renamed to 'ensure_all_finite' in 1.6 and will be removed in 1.8.\n",
      "  warnings.warn(\n",
      "/usr/local/python/3.12.1/lib/python3.12/site-packages/sklearn/utils/deprecation.py:151: FutureWarning: 'force_all_finite' was renamed to 'ensure_all_finite' in 1.6 and will be removed in 1.8.\n",
      "  warnings.warn(\n",
      "/usr/local/python/3.12.1/lib/python3.12/site-packages/sklearn/utils/deprecation.py:151: FutureWarning: 'force_all_finite' was renamed to 'ensure_all_finite' in 1.6 and will be removed in 1.8.\n",
      "  warnings.warn(\n",
      "/usr/local/python/3.12.1/lib/python3.12/site-packages/sklearn/utils/deprecation.py:151: FutureWarning: 'force_all_finite' was renamed to 'ensure_all_finite' in 1.6 and will be removed in 1.8.\n",
      "  warnings.warn(\n",
      "/usr/local/python/3.12.1/lib/python3.12/site-packages/sklearn/utils/deprecation.py:151: FutureWarning: 'force_all_finite' was renamed to 'ensure_all_finite' in 1.6 and will be removed in 1.8.\n",
      "  warnings.warn(\n",
      "/usr/local/python/3.12.1/lib/python3.12/site-packages/sklearn/utils/deprecation.py:151: FutureWarning: 'force_all_finite' was renamed to 'ensure_all_finite' in 1.6 and will be removed in 1.8.\n",
      "  warnings.warn(\n",
      "/usr/local/python/3.12.1/lib/python3.12/site-packages/sklearn/utils/deprecation.py:151: FutureWarning: 'force_all_finite' was renamed to 'ensure_all_finite' in 1.6 and will be removed in 1.8.\n",
      "  warnings.warn(\n",
      "/usr/local/python/3.12.1/lib/python3.12/site-packages/sklearn/utils/deprecation.py:151: FutureWarning: 'force_all_finite' was renamed to 'ensure_all_finite' in 1.6 and will be removed in 1.8.\n",
      "  warnings.warn(\n",
      "/usr/local/python/3.12.1/lib/python3.12/site-packages/sklearn/utils/deprecation.py:151: FutureWarning: 'force_all_finite' was renamed to 'ensure_all_finite' in 1.6 and will be removed in 1.8.\n",
      "  warnings.warn(\n",
      "/usr/local/python/3.12.1/lib/python3.12/site-packages/sklearn/utils/deprecation.py:151: FutureWarning: 'force_all_finite' was renamed to 'ensure_all_finite' in 1.6 and will be removed in 1.8.\n",
      "  warnings.warn(\n",
      "/usr/local/python/3.12.1/lib/python3.12/site-packages/sklearn/utils/deprecation.py:151: FutureWarning: 'force_all_finite' was renamed to 'ensure_all_finite' in 1.6 and will be removed in 1.8.\n",
      "  warnings.warn(\n",
      "/usr/local/python/3.12.1/lib/python3.12/site-packages/sklearn/utils/deprecation.py:151: FutureWarning: 'force_all_finite' was renamed to 'ensure_all_finite' in 1.6 and will be removed in 1.8.\n",
      "  warnings.warn(\n",
      "/usr/local/python/3.12.1/lib/python3.12/site-packages/sklearn/utils/deprecation.py:151: FutureWarning: 'force_all_finite' was renamed to 'ensure_all_finite' in 1.6 and will be removed in 1.8.\n",
      "  warnings.warn(\n",
      "/usr/local/python/3.12.1/lib/python3.12/site-packages/sklearn/utils/deprecation.py:151: FutureWarning: 'force_all_finite' was renamed to 'ensure_all_finite' in 1.6 and will be removed in 1.8.\n",
      "  warnings.warn(\n",
      "/usr/local/python/3.12.1/lib/python3.12/site-packages/sklearn/utils/deprecation.py:151: FutureWarning: 'force_all_finite' was renamed to 'ensure_all_finite' in 1.6 and will be removed in 1.8.\n",
      "  warnings.warn(\n",
      "/usr/local/python/3.12.1/lib/python3.12/site-packages/sklearn/utils/deprecation.py:151: FutureWarning: 'force_all_finite' was renamed to 'ensure_all_finite' in 1.6 and will be removed in 1.8.\n",
      "  warnings.warn(\n",
      "/usr/local/python/3.12.1/lib/python3.12/site-packages/sklearn/utils/deprecation.py:151: FutureWarning: 'force_all_finite' was renamed to 'ensure_all_finite' in 1.6 and will be removed in 1.8.\n",
      "  warnings.warn(\n",
      "/usr/local/python/3.12.1/lib/python3.12/site-packages/sklearn/utils/deprecation.py:151: FutureWarning: 'force_all_finite' was renamed to 'ensure_all_finite' in 1.6 and will be removed in 1.8.\n",
      "  warnings.warn(\n",
      "/usr/local/python/3.12.1/lib/python3.12/site-packages/sklearn/utils/deprecation.py:151: FutureWarning: 'force_all_finite' was renamed to 'ensure_all_finite' in 1.6 and will be removed in 1.8.\n",
      "  warnings.warn(\n",
      "/usr/local/python/3.12.1/lib/python3.12/site-packages/sklearn/utils/deprecation.py:151: FutureWarning: 'force_all_finite' was renamed to 'ensure_all_finite' in 1.6 and will be removed in 1.8.\n",
      "  warnings.warn(\n",
      "/usr/local/python/3.12.1/lib/python3.12/site-packages/sklearn/utils/deprecation.py:151: FutureWarning: 'force_all_finite' was renamed to 'ensure_all_finite' in 1.6 and will be removed in 1.8.\n",
      "  warnings.warn(\n",
      "/usr/local/python/3.12.1/lib/python3.12/site-packages/sklearn/utils/deprecation.py:151: FutureWarning: 'force_all_finite' was renamed to 'ensure_all_finite' in 1.6 and will be removed in 1.8.\n",
      "  warnings.warn(\n",
      "/usr/local/python/3.12.1/lib/python3.12/site-packages/sklearn/utils/deprecation.py:151: FutureWarning: 'force_all_finite' was renamed to 'ensure_all_finite' in 1.6 and will be removed in 1.8.\n",
      "  warnings.warn(\n",
      "/usr/local/python/3.12.1/lib/python3.12/site-packages/sklearn/utils/deprecation.py:151: FutureWarning: 'force_all_finite' was renamed to 'ensure_all_finite' in 1.6 and will be removed in 1.8.\n",
      "  warnings.warn(\n",
      "/usr/local/python/3.12.1/lib/python3.12/site-packages/sklearn/utils/deprecation.py:151: FutureWarning: 'force_all_finite' was renamed to 'ensure_all_finite' in 1.6 and will be removed in 1.8.\n",
      "  warnings.warn(\n",
      "/usr/local/python/3.12.1/lib/python3.12/site-packages/sklearn/utils/deprecation.py:151: FutureWarning: 'force_all_finite' was renamed to 'ensure_all_finite' in 1.6 and will be removed in 1.8.\n",
      "  warnings.warn(\n",
      "/usr/local/python/3.12.1/lib/python3.12/site-packages/sklearn/utils/deprecation.py:151: FutureWarning: 'force_all_finite' was renamed to 'ensure_all_finite' in 1.6 and will be removed in 1.8.\n",
      "  warnings.warn(\n",
      "/usr/local/python/3.12.1/lib/python3.12/site-packages/sklearn/utils/deprecation.py:151: FutureWarning: 'force_all_finite' was renamed to 'ensure_all_finite' in 1.6 and will be removed in 1.8.\n",
      "  warnings.warn(\n",
      "/usr/local/python/3.12.1/lib/python3.12/site-packages/sklearn/utils/deprecation.py:151: FutureWarning: 'force_all_finite' was renamed to 'ensure_all_finite' in 1.6 and will be removed in 1.8.\n",
      "  warnings.warn(\n",
      "Projecting Embeddings:  93%|█████████▎| 112/120 [00:02<00:00, 91.64it/s]/usr/local/python/3.12.1/lib/python3.12/site-packages/sklearn/utils/deprecation.py:151: FutureWarning: 'force_all_finite' was renamed to 'ensure_all_finite' in 1.6 and will be removed in 1.8.\n",
      "  warnings.warn(\n",
      "/usr/local/python/3.12.1/lib/python3.12/site-packages/sklearn/utils/deprecation.py:151: FutureWarning: 'force_all_finite' was renamed to 'ensure_all_finite' in 1.6 and will be removed in 1.8.\n",
      "  warnings.warn(\n",
      "/usr/local/python/3.12.1/lib/python3.12/site-packages/sklearn/utils/deprecation.py:151: FutureWarning: 'force_all_finite' was renamed to 'ensure_all_finite' in 1.6 and will be removed in 1.8.\n",
      "  warnings.warn(\n",
      "/usr/local/python/3.12.1/lib/python3.12/site-packages/sklearn/utils/deprecation.py:151: FutureWarning: 'force_all_finite' was renamed to 'ensure_all_finite' in 1.6 and will be removed in 1.8.\n",
      "  warnings.warn(\n",
      "/usr/local/python/3.12.1/lib/python3.12/site-packages/sklearn/utils/deprecation.py:151: FutureWarning: 'force_all_finite' was renamed to 'ensure_all_finite' in 1.6 and will be removed in 1.8.\n",
      "  warnings.warn(\n",
      "/usr/local/python/3.12.1/lib/python3.12/site-packages/sklearn/utils/deprecation.py:151: FutureWarning: 'force_all_finite' was renamed to 'ensure_all_finite' in 1.6 and will be removed in 1.8.\n",
      "  warnings.warn(\n",
      "/usr/local/python/3.12.1/lib/python3.12/site-packages/sklearn/utils/deprecation.py:151: FutureWarning: 'force_all_finite' was renamed to 'ensure_all_finite' in 1.6 and will be removed in 1.8.\n",
      "  warnings.warn(\n",
      "/usr/local/python/3.12.1/lib/python3.12/site-packages/sklearn/utils/deprecation.py:151: FutureWarning: 'force_all_finite' was renamed to 'ensure_all_finite' in 1.6 and will be removed in 1.8.\n",
      "  warnings.warn(\n",
      "Projecting Embeddings: 100%|██████████| 120/120 [00:02<00:00, 53.18it/s]"
     ]
    },
    {
     "name": "stdout",
     "output_type": "stream",
     "text": [
      "Projected dataset embeddings shape: (120, 2)\n"
     ]
    },
    {
     "name": "stderr",
     "output_type": "stream",
     "text": [
      "\n"
     ]
    }
   ],
   "source": [
    "# Project the entire dataset embeddings\n",
    "projected_dataset_embeddings = project_embeddings(chunk_embeddings, umap_transform)\n",
    "print(\"Projected dataset embeddings shape:\", projected_dataset_embeddings.shape)"
   ]
  },
  {
   "cell_type": "markdown",
   "metadata": {},
   "source": [
    "## 7. Querying the Vector Store and Projecting Results\n",
    "\n",
    "We now define a retrieval function that takes a text query, embeds it, and searches our FAISS index for similar documents. We then project these result embeddings with UMAP.\n",
    "\"\"\""
   ]
  },
  {
   "cell_type": "code",
   "execution_count": 18,
   "metadata": {},
   "outputs": [],
   "source": [
    "#Die Funktion retrieve(query, k=5) berechnet ein Embedding für die Anfrage, sucht die k ähnlichsten Chunks im \n",
    "#FAISS-Index und gibt die zugehörigen Texte, Embeddings und Distanzen zurück.\n",
    "def retrieve(query, k=5):\n",
    "    \"\"\"\n",
    "    Retrieve the top k similar text chunks and their embeddings for a given query.\n",
    "    \"\"\"\n",
    "    query_embedding = model.encode([query], convert_to_numpy=True)\n",
    "    distances, indices = index.search(query_embedding, k)\n",
    "    retrieved_texts = [chunks[i] for i in indices[0]]\n",
    "    retrieved_embeddings = np.array([chunk_embeddings[i] for i in indices[0]])\n",
    "    return retrieved_texts, retrieved_embeddings, distances[0]"
   ]
  },
  {
   "cell_type": "code",
   "execution_count": 19,
   "metadata": {},
   "outputs": [
    {
     "ename": "IndexError",
     "evalue": "list index out of range",
     "output_type": "error",
     "traceback": [
      "\u001b[0;31m---------------------------------------------------------------------------\u001b[0m",
      "\u001b[0;31mIndexError\u001b[0m                                Traceback (most recent call last)",
      "Cell \u001b[0;32mIn[19], line 2\u001b[0m\n\u001b[1;32m      1\u001b[0m query \u001b[38;5;241m=\u001b[39m \u001b[38;5;124m\"\u001b[39m\u001b[38;5;124mmachine learning algorithms\u001b[39m\u001b[38;5;124m\"\u001b[39m\n\u001b[0;32m----> 2\u001b[0m results, result_embeddings, distances \u001b[38;5;241m=\u001b[39m \u001b[43mretrieve\u001b[49m\u001b[43m(\u001b[49m\u001b[43mquery\u001b[49m\u001b[43m,\u001b[49m\u001b[43m \u001b[49m\u001b[43mk\u001b[49m\u001b[38;5;241;43m=\u001b[39;49m\u001b[38;5;241;43m2\u001b[39;49m\u001b[43m)\u001b[49m\n\u001b[1;32m      3\u001b[0m \u001b[38;5;28mprint\u001b[39m(\u001b[38;5;124m\"\u001b[39m\u001b[38;5;124mRetrieved document preview:\u001b[39m\u001b[38;5;124m\"\u001b[39m)\n\u001b[1;32m      4\u001b[0m \u001b[38;5;28mprint\u001b[39m(results[\u001b[38;5;241m0\u001b[39m][:\u001b[38;5;241m300\u001b[39m])\n",
      "Cell \u001b[0;32mIn[18], line 9\u001b[0m, in \u001b[0;36mretrieve\u001b[0;34m(query, k)\u001b[0m\n\u001b[1;32m      7\u001b[0m query_embedding \u001b[38;5;241m=\u001b[39m model\u001b[38;5;241m.\u001b[39mencode([query], convert_to_numpy\u001b[38;5;241m=\u001b[39m\u001b[38;5;28;01mTrue\u001b[39;00m)\n\u001b[1;32m      8\u001b[0m distances, indices \u001b[38;5;241m=\u001b[39m index\u001b[38;5;241m.\u001b[39msearch(query_embedding, k)\n\u001b[0;32m----> 9\u001b[0m retrieved_texts \u001b[38;5;241m=\u001b[39m [\u001b[43mchunks\u001b[49m\u001b[43m[\u001b[49m\u001b[43mi\u001b[49m\u001b[43m]\u001b[49m \u001b[38;5;28;01mfor\u001b[39;00m i \u001b[38;5;129;01min\u001b[39;00m indices[\u001b[38;5;241m0\u001b[39m]]\n\u001b[1;32m     10\u001b[0m retrieved_embeddings \u001b[38;5;241m=\u001b[39m np\u001b[38;5;241m.\u001b[39marray([chunk_embeddings[i] \u001b[38;5;28;01mfor\u001b[39;00m i \u001b[38;5;129;01min\u001b[39;00m indices[\u001b[38;5;241m0\u001b[39m]])\n\u001b[1;32m     11\u001b[0m \u001b[38;5;28;01mreturn\u001b[39;00m retrieved_texts, retrieved_embeddings, distances[\u001b[38;5;241m0\u001b[39m]\n",
      "\u001b[0;31mIndexError\u001b[0m: list index out of range"
     ]
    }
   ],
   "source": [
    "query = \"machine learning algorithms\"\n",
    "results, result_embeddings, distances = retrieve(query, k=2)\n",
    "print(\"Retrieved document preview:\")\n",
    "print(results[0][:300])"
   ]
  },
  {
   "cell_type": "code",
   "execution_count": null,
   "metadata": {},
   "outputs": [
    {
     "ename": "NameError",
     "evalue": "name 'result_embeddings' is not defined",
     "output_type": "error",
     "traceback": [
      "\u001b[0;31m---------------------------------------------------------------------------\u001b[0m",
      "\u001b[0;31mNameError\u001b[0m                                 Traceback (most recent call last)",
      "Cell \u001b[0;32mIn[25], line 2\u001b[0m\n\u001b[1;32m      1\u001b[0m \u001b[38;5;66;03m# Project the result embeddings\u001b[39;00m\n\u001b[0;32m----> 2\u001b[0m projected_result_embeddings \u001b[38;5;241m=\u001b[39m project_embeddings(\u001b[43mresult_embeddings\u001b[49m, umap_transform)\n\u001b[1;32m      4\u001b[0m \u001b[38;5;66;03m# Also embed and project the original query for visualization\u001b[39;00m\n\u001b[1;32m      5\u001b[0m query_embedding \u001b[38;5;241m=\u001b[39m model\u001b[38;5;241m.\u001b[39mencode([query], convert_to_numpy\u001b[38;5;241m=\u001b[39m\u001b[38;5;28;01mTrue\u001b[39;00m)\n",
      "\u001b[0;31mNameError\u001b[0m: name 'result_embeddings' is not defined"
     ]
    }
   ],
   "source": [
    "# Project the result embeddings\n",
    "projected_result_embeddings = project_embeddings(result_embeddings, umap_transform)\n",
    "\n",
    "# Also embed and project the original query for visualization\n",
    "query_embedding = model.encode([query], convert_to_numpy=True)\n",
    "project_original_query = project_embeddings(query_embedding, umap_transform)"
   ]
  },
  {
   "cell_type": "markdown",
   "metadata": {},
   "source": [
    "## 8. Visualizing the Results\n",
    "\n",
    "Finally, we create a scatter plot to visualize the entire dataset, the retrieved results, and the original query in 2D space."
   ]
  },
  {
   "cell_type": "code",
   "execution_count": null,
   "metadata": {},
   "outputs": [
    {
     "ename": "NameError",
     "evalue": "name 'projected_result_embeddings' is not defined",
     "output_type": "error",
     "traceback": [
      "\u001b[0;31m---------------------------------------------------------------------------\u001b[0m",
      "\u001b[0;31mNameError\u001b[0m                                 Traceback (most recent call last)",
      "Cell \u001b[0;32mIn[27], line 10\u001b[0m\n\u001b[1;32m      7\u001b[0m \u001b[38;5;66;03m# Scatter plots\u001b[39;00m\n\u001b[1;32m      8\u001b[0m plt\u001b[38;5;241m.\u001b[39mscatter(projected_dataset_embeddings[:, \u001b[38;5;241m0\u001b[39m], projected_dataset_embeddings[:, \u001b[38;5;241m1\u001b[39m],\n\u001b[1;32m      9\u001b[0m             s\u001b[38;5;241m=\u001b[39m\u001b[38;5;241m10\u001b[39m, color\u001b[38;5;241m=\u001b[39m\u001b[38;5;124m'\u001b[39m\u001b[38;5;124mgray\u001b[39m\u001b[38;5;124m'\u001b[39m, label\u001b[38;5;241m=\u001b[39m\u001b[38;5;124m'\u001b[39m\u001b[38;5;124mDataset\u001b[39m\u001b[38;5;124m'\u001b[39m)\n\u001b[0;32m---> 10\u001b[0m plt\u001b[38;5;241m.\u001b[39mscatter(\u001b[43mprojected_result_embeddings\u001b[49m[:, \u001b[38;5;241m0\u001b[39m], projected_result_embeddings[:, \u001b[38;5;241m1\u001b[39m],\n\u001b[1;32m     11\u001b[0m             s\u001b[38;5;241m=\u001b[39m\u001b[38;5;241m100\u001b[39m, facecolors\u001b[38;5;241m=\u001b[39m\u001b[38;5;124m'\u001b[39m\u001b[38;5;124mnone\u001b[39m\u001b[38;5;124m'\u001b[39m, edgecolors\u001b[38;5;241m=\u001b[39m\u001b[38;5;124m'\u001b[39m\u001b[38;5;124mg\u001b[39m\u001b[38;5;124m'\u001b[39m, label\u001b[38;5;241m=\u001b[39m\u001b[38;5;124m'\u001b[39m\u001b[38;5;124mResults\u001b[39m\u001b[38;5;124m'\u001b[39m)\n\u001b[1;32m     12\u001b[0m plt\u001b[38;5;241m.\u001b[39mscatter(project_original_query[:, \u001b[38;5;241m0\u001b[39m], project_original_query[:, \u001b[38;5;241m1\u001b[39m],\n\u001b[1;32m     13\u001b[0m             s\u001b[38;5;241m=\u001b[39m\u001b[38;5;241m150\u001b[39m, marker\u001b[38;5;241m=\u001b[39m\u001b[38;5;124m'\u001b[39m\u001b[38;5;124mX\u001b[39m\u001b[38;5;124m'\u001b[39m, color\u001b[38;5;241m=\u001b[39m\u001b[38;5;124m'\u001b[39m\u001b[38;5;124mr\u001b[39m\u001b[38;5;124m'\u001b[39m, label\u001b[38;5;241m=\u001b[39m\u001b[38;5;124m'\u001b[39m\u001b[38;5;124mOriginal Query\u001b[39m\u001b[38;5;124m'\u001b[39m)\n\u001b[1;32m     15\u001b[0m \u001b[38;5;66;03m# If results is a list of texts, iterate directly\u001b[39;00m\n",
      "\u001b[0;31mNameError\u001b[0m: name 'projected_result_embeddings' is not defined"
     ]
    },
    {
     "data": {
      "image/png": "[encoded data removed]",
      "text/plain": [
       "<Figure size 640x480 with 1 Axes>"
      ]
     },
     "metadata": {},
     "output_type": "display_data"
    }
   ],
   "source": [
    "\n",
    "def shorten_text(text, max_length=15):\n",
    "    \"\"\"Shortens text to max_length and adds an ellipsis if shortened.\"\"\"\n",
    "    return (text[:max_length] + '...') if len(text) > max_length else text\n",
    "\n",
    "plt.figure()\n",
    "\n",
    "# Scatter plots\n",
    "plt.scatter(projected_dataset_embeddings[:, 0], projected_dataset_embeddings[:, 1],\n",
    "            s=10, color='gray', label='Dataset')\n",
    "plt.scatter(projected_result_embeddings[:, 0], projected_result_embeddings[:, 1],\n",
    "            s=100, facecolors='none', edgecolors='g', label='Results')\n",
    "plt.scatter(project_original_query[:, 0], project_original_query[:, 1],\n",
    "            s=150, marker='X', color='r', label='Original Query')\n",
    "\n",
    "# If results is a list of texts, iterate directly\n",
    "for i, text in enumerate(results):\n",
    "    if i < len(projected_result_embeddings):\n",
    "        plt.annotate(shorten_text(text),\n",
    "                     (projected_result_embeddings[i, 0], projected_result_embeddings[i, 1]),\n",
    "                     fontsize=8)\n",
    "\n",
    "# Annotate the original query point\n",
    "original_query_text = 'Original Query Text'  # Replace with your actual query text if needed\n",
    "plt.annotate(shorten_text(original_query_text),\n",
    "             (project_original_query[0, 0], project_original_query[0, 1]),\n",
    "             fontsize=8)\n",
    "\n",
    "plt.gca().set_aspect('equal', 'datalim')\n",
    "plt.title('Hogwarts')\n",
    "plt.legend()\n",
    "plt.show()\n"
   ]
  },
  {
   "cell_type": "markdown",
   "metadata": {},
   "source": [
    "## Attach Retrieved Results to LLM\n",
    "\n",
    "- Combine learnings from week 1 with approach from this week to inject your data into prompts and create a simple question answering system"
   ]
  },
  {
   "cell_type": "code",
   "execution_count": 20,
   "metadata": {},
   "outputs": [],
   "source": [
    "#🪄 Schritt 1: Frage stellen + relevante Text-Chunks abrufen\n",
    "\n",
    "def retrieve_context(query, k=3):\n",
    "    query_embedding = model.encode([query], convert_to_numpy=True)\n",
    "    distances, indices = index.search(query_embedding, k)\n",
    "    return [chunks[i] for i in indices[0] if i < len(chunks)]\n"
   ]
  },
  {
   "cell_type": "code",
   "execution_count": 21,
   "metadata": {},
   "outputs": [],
   "source": [
    "#🪄 Schritt 2: Prompt zusammenbauen\n",
    "def build_prompt(query, context_chunks):\n",
    "    context = \"\\n\\n\".join(context_chunks)\n",
    "    return f\"\"\"\n",
    "Answer the following question based only on the context below.\n",
    "\n",
    "Context:\n",
    "{context}\n",
    "\n",
    "Question:\n",
    "{query}\n",
    "\n",
    "Answer:\n",
    "\"\"\"\n"
   ]
  },
  {
   "cell_type": "code",
   "execution_count": 24,
   "metadata": {},
   "outputs": [],
   "source": [
    "# 1. Importiere Module\n",
    "from openai import OpenAI\n",
    "import os\n",
    "from dotenv import load_dotenv\n",
    "\n",
    "# 2. Lade API-Key\n",
    "load_dotenv()\n",
    "key = os.getenv(\"OPENAI_API_KEY\")\n",
    "\n",
    "# 3. Erstelle den Client GLOBAL\n",
    "client = OpenAI(api_key=key)\n",
    "\n",
    "# 4. Definiere deine Funktion\n",
    "def answer_question(query):\n",
    "    \"\"\"\n",
    "    Sendet die Nutzerfrage an OpenAI GPT, mit Kontext.\n",
    "    \"\"\"\n",
    "    context_chunks = retrieve_context(query)\n",
    "    prompt = build_prompt(query, context_chunks)\n",
    "\n",
    "    response = client.chat.completions.create(\n",
    "        model=\"gpt-3.5-turbo\",\n",
    "        messages=[\n",
    "            {\"role\": \"user\", \"content\": prompt}\n",
    "        ]\n",
    "    )\n",
    "    return response.choices[0].message.content\n"
   ]
  },
  {
   "cell_type": "code",
   "execution_count": 25,
   "metadata": {},
   "outputs": [
    {
     "name": "stdout",
     "output_type": "stream",
     "text": [
      "The document does not provide any specific information about machine learning.\n"
     ]
    }
   ],
   "source": [
    "query = \"What does the document say about machine learning?\"\n",
    "answer = answer_question(query)\n",
    "print(answer)\n"
   ]
  },
  {
   "cell_type": "code",
   "execution_count": 26,
   "metadata": {},
   "outputs": [
    {
     "name": "stdout",
     "output_type": "stream",
     "text": [
      "Exercise has been shown to improve brain function by increasing blood flow and oxygenation to the brain, promoting the growth of new brain cells, and enhancing cognitive function such as memory and decision-making.\n"
     ]
    }
   ],
   "source": [
    "answerNew = answer_question(\"What are the effects of exercise on brain function?\")\n",
    "print(answerNew)"
   ]
  }
 ],
 "metadata": {
  "kernelspec": {
   "display_name": "Python 3",
   "language": "python",
   "name": "python3"
  },
  "language_info": {
   "codemirror_mode": {
    "name": "ipython",
    "version": 3
   },
   "file_extension": ".py",
   "mimetype": "text/x-python",
   "name": "python",
   "nbconvert_exporter": "python",
   "pygments_lexer": "ipython3",
   "version": "3.12.1"
  }
 },
 "nbformat": 4,
 "nbformat_minor": 2
}
